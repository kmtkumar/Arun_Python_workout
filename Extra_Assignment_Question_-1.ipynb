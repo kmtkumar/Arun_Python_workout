{
 "cells": [
  {
   "cell_type": "code",
   "execution_count": 1,
   "id": "020d2e59-eff4-4ed7-b68b-9d19aa6a1a3f",
   "metadata": {},
   "outputs": [],
   "source": [
    "#Extra_Assignment_Question_-1"
   ]
  },
  {
   "cell_type": "code",
   "execution_count": 2,
   "id": "df4c3ca1-2a4c-456c-a944-63db8f9c3b25",
   "metadata": {},
   "outputs": [
    {
     "name": "stdout",
     "output_type": "stream",
     "text": [
      "HOPE AI\n"
     ]
    }
   ],
   "source": [
    "print(\"HOPE AI\")"
   ]
  },
  {
   "cell_type": "code",
   "execution_count": 6,
   "id": "89f1b0ea-63e6-411a-a2d1-3391108046ce",
   "metadata": {},
   "outputs": [],
   "source": [
    "# Buy input"
   ]
  },
  {
   "cell_type": "code",
   "execution_count": 4,
   "id": "65541d35-f10f-4e06-9c1b-268d7143b374",
   "metadata": {},
   "outputs": [
    {
     "name": "stdin",
     "output_type": "stream",
     "text": [
      "Enter your institute name? : HOPI AI\n"
     ]
    },
    {
     "name": "stdout",
     "output_type": "stream",
     "text": [
      "institute nmae is: HOPI AI\n"
     ]
    }
   ],
   "source": [
    "name=input(\"Enter your institute name? :\")\n",
    "print(\"institute nmae is:\",name)"
   ]
  },
  {
   "cell_type": "code",
   "execution_count": 5,
   "id": "fd70f04b-f7d3-47cf-9592-bfffb818d726",
   "metadata": {},
   "outputs": [],
   "source": [
    "# Buy inputs"
   ]
  },
  {
   "cell_type": "code",
   "execution_count": 7,
   "id": "8e82ccd0-3c75-4e17-a473-fb1aa3338b3a",
   "metadata": {},
   "outputs": [
    {
     "name": "stdin",
     "output_type": "stream",
     "text": [
      "Enter your name: Arun\n",
      "Enter your age: 39\n",
      "Enter your school name: G.Hr.School\n",
      "Enter your degree: computer science\n"
     ]
    },
    {
     "name": "stdout",
     "output_type": "stream",
     "text": [
      "Enter your name: Arun\n",
      "Enter your age: 39\n",
      "Enter your school name: G.Hr.School\n",
      "Enter your degree: computer science\n"
     ]
    }
   ],
   "source": [
    "name=input(\"Enter your name:\")\n",
    "age=input(\"Enter your age:\")\n",
    "school_name=input(\"Enter your school name:\")\n",
    "course=input(\"Enter your degree:\")\n",
    "print(\"Enter your name:\",name)\n",
    "print(\"Enter your age:\",age)\n",
    "print(\"Enter your school name:\",school_name)\n",
    "print(\"Enter your degree:\",course)"
   ]
  },
  {
   "cell_type": "code",
   "execution_count": 8,
   "id": "4a9afcd0-88f7-49a4-a5fd-79d3f7b1eebe",
   "metadata": {},
   "outputs": [],
   "source": [
    " #Addition"
   ]
  },
  {
   "cell_type": "code",
   "execution_count": 13,
   "id": "31febce8-2539-4b61-ba6e-1d14872346c2",
   "metadata": {},
   "outputs": [
    {
     "name": "stdin",
     "output_type": "stream",
     "text": [
      "Enter the Num1: 43\n",
      "Enter the Num2: 34\n"
     ]
    },
    {
     "name": "stdout",
     "output_type": "stream",
     "text": [
      "your Addition value= 77\n"
     ]
    }
   ],
   "source": [
    "Num1=int(input(\"Enter the Num1:\"))\n",
    "Num2=int(input(\"Enter the Num2:\"))\n",
    "add=Num1+Num2\n",
    "print(\"your Addition value=\",add)"
   ]
  },
  {
   "cell_type": "code",
   "execution_count": 14,
   "id": "3fa4873b-9d4d-4ca0-9415-e35b2070cbbc",
   "metadata": {},
   "outputs": [],
   "source": [
    "#Subtraction"
   ]
  },
  {
   "cell_type": "code",
   "execution_count": 15,
   "id": "bb4a5671-689e-4850-8594-a47e41a86e56",
   "metadata": {},
   "outputs": [
    {
     "name": "stdin",
     "output_type": "stream",
     "text": [
      "Enter the Num1: 43\n",
      "Enter the Num2: 34\n"
     ]
    },
    {
     "name": "stdout",
     "output_type": "stream",
     "text": [
      "your Subtraction value= 9\n"
     ]
    }
   ],
   "source": [
    "Num1=int(input(\"Enter the Num1:\"))\n",
    "Num2=int(input(\"Enter the Num2:\"))\n",
    "sub=Num1-Num2\n",
    "print(\"your Subtraction value=\",sub)"
   ]
  },
  {
   "cell_type": "code",
   "execution_count": 16,
   "id": "c9e21760-e9bf-4f95-a958-65deb32a39fd",
   "metadata": {},
   "outputs": [],
   "source": [
    "#Multiplication"
   ]
  },
  {
   "cell_type": "code",
   "execution_count": 18,
   "id": "96185822-d9bf-49b9-9283-e327933c8f24",
   "metadata": {},
   "outputs": [
    {
     "name": "stdin",
     "output_type": "stream",
     "text": [
      "Enter the Num1: 63\n",
      "Enter the Num2: 97\n"
     ]
    },
    {
     "name": "stdout",
     "output_type": "stream",
     "text": [
      "your Multiplication value= 6111\n"
     ]
    }
   ],
   "source": [
    "Num1=int(input(\"Enter the Num1:\"))\n",
    "Num2=int(input(\"Enter the Num2:\"))\n",
    "mul=Num1*Num2\n",
    "print(\"your Multiplication value=\",mul)"
   ]
  },
  {
   "cell_type": "code",
   "execution_count": 19,
   "id": "5dcfde5d-7aa7-454f-a944-11ff99ea9a04",
   "metadata": {},
   "outputs": [],
   "source": [
    " #Division"
   ]
  },
  {
   "cell_type": "code",
   "execution_count": 20,
   "id": "6728758b-a5a5-47c3-9076-e3a1f1248c6d",
   "metadata": {},
   "outputs": [
    {
     "name": "stdin",
     "output_type": "stream",
     "text": [
      "Enter the Num1: 76\n",
      "Enter the Num2: 31\n"
     ]
    },
    {
     "name": "stdout",
     "output_type": "stream",
     "text": [
      "your Division value= 2.4516129032258065\n"
     ]
    }
   ],
   "source": [
    "Num1=int(input(\"Enter the Num1:\"))\n",
    "Num2=int(input(\"Enter the Num2:\"))\n",
    "div=Num1/Num2\n",
    "print(\"your Division value=\",div)"
   ]
  },
  {
   "cell_type": "code",
   "execution_count": 21,
   "id": "5b17a2d1-d77c-4c8c-a83d-a074dc4781e2",
   "metadata": {},
   "outputs": [],
   "source": [
    "#Floor division"
   ]
  },
  {
   "cell_type": "code",
   "execution_count": 22,
   "id": "fcfc2524-b7a2-47e5-9584-9e574d0e191f",
   "metadata": {},
   "outputs": [
    {
     "name": "stdin",
     "output_type": "stream",
     "text": [
      "Enter the Num1: 76\n",
      "Enter the Num2: 31\n"
     ]
    },
    {
     "name": "stdout",
     "output_type": "stream",
     "text": [
      "your Floor division value is= 2\n"
     ]
    }
   ],
   "source": [
    "Num1=int(input(\"Enter the Num1:\"))\n",
    "Num2=int(input(\"Enter the Num2:\"))\n",
    "floor_div=Num1//Num2\n",
    "print(\"your Floor division value is=\",floor_div)"
   ]
  },
  {
   "cell_type": "code",
   "execution_count": null,
   "id": "40b987b8-1f7c-4bf9-9516-eeef70afc49b",
   "metadata": {},
   "outputs": [],
   "source": [
    "#Modulo"
   ]
  },
  {
   "cell_type": "code",
   "execution_count": 23,
   "id": "59504eb3-f93c-45f8-9b15-2871aa13d746",
   "metadata": {},
   "outputs": [
    {
     "name": "stdin",
     "output_type": "stream",
     "text": [
      "Enter the Num1: 76\n",
      "Enter the Num2: 31\n"
     ]
    },
    {
     "name": "stdout",
     "output_type": "stream",
     "text": [
      "your Modulous value is= 14\n"
     ]
    }
   ],
   "source": [
    "Num1=int(input(\"Enter the Num1:\"))\n",
    "Num2=int(input(\"Enter the Num2:\"))\n",
    "modulo=Num1%Num2\n",
    "print(\"your Modulous value is=\",modulo)"
   ]
  },
  {
   "cell_type": "code",
   "execution_count": 24,
   "id": "1fc96dd3-52cd-47f9-952f-fc9efed02225",
   "metadata": {},
   "outputs": [],
   "source": [
    "#Power"
   ]
  },
  {
   "cell_type": "code",
   "execution_count": 28,
   "id": "81506174-3a09-49b8-abd9-2fc84f84bdc8",
   "metadata": {},
   "outputs": [
    {
     "name": "stdin",
     "output_type": "stream",
     "text": [
      "Enter the Num1: 4\n",
      "Enter the Num2: 4\n"
     ]
    },
    {
     "name": "stdout",
     "output_type": "stream",
     "text": [
      "your power value is= 256\n"
     ]
    }
   ],
   "source": [
    "Num1=int(input(\"Enter the Num1:\"))\n",
    "Num2=int(input(\"Enter the Num2:\"))\n",
    "power=(Num1*Num1)*(Num2*Num2)\n",
    "print(\"your power value is=\",power)"
   ]
  },
  {
   "cell_type": "code",
   "execution_count": null,
   "id": "0cd14112-fbae-4074-830c-b6ad301075cd",
   "metadata": {},
   "outputs": [],
   "source": []
  }
 ],
 "metadata": {
  "kernelspec": {
   "display_name": "Python 3 (ipykernel)",
   "language": "python",
   "name": "python3"
  },
  "language_info": {
   "codemirror_mode": {
    "name": "ipython",
    "version": 3
   },
   "file_extension": ".py",
   "mimetype": "text/x-python",
   "name": "python",
   "nbconvert_exporter": "python",
   "pygments_lexer": "ipython3",
   "version": "3.11.7"
  }
 },
 "nbformat": 4,
 "nbformat_minor": 5
}
