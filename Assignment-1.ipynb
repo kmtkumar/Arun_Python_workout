{
 "cells": [
  {
   "cell_type": "code",
   "execution_count": null,
   "id": "f698cdfa-7444-49da-9521-2067af82b57f",
   "metadata": {},
   "outputs": [],
   "source": [
    "#Assignment-1-Control Structures-Question"
   ]
  },
  {
   "cell_type": "code",
   "execution_count": null,
   "id": "5dec2677-fc26-41a7-a96e-e6d2ef820df8",
   "metadata": {},
   "outputs": [],
   "source": [
    "#Qus-1 welcom note"
   ]
  },
  {
   "cell_type": "code",
   "execution_count": 1,
   "id": "fa16a652-3062-42ed-93e7-2cc59265abc3",
   "metadata": {},
   "outputs": [
    {
     "name": "stdout",
     "output_type": "stream",
     "text": [
      "Welcome to Assignment-1\n"
     ]
    }
   ],
   "source": [
    "input=\"Welcome to Assignment-1\"\n",
    "print(input)"
   ]
  },
  {
   "cell_type": "code",
   "execution_count": 2,
   "id": "037bc084-b470-4971-8eaa-7b5b77d5ea57",
   "metadata": {},
   "outputs": [],
   "source": [
    "#Qus-2 addition"
   ]
  },
  {
   "cell_type": "code",
   "execution_count": 1,
   "id": "f7b5e99c-1eeb-45d2-b5c8-fbc8a458062d",
   "metadata": {},
   "outputs": [
    {
     "name": "stdin",
     "output_type": "stream",
     "text": [
      "Enter The First Number: 10\n",
      "Enter The Sencond Number: 30\n"
     ]
    },
    {
     "name": "stdout",
     "output_type": "stream",
     "text": [
      "Add= 40\n"
     ]
    }
   ],
   "source": [
    "num1=int(input(\"Enter The First Number:\"))\n",
    "num2=int(input(\"Enter The Sencond Number:\"))\n",
    "add=num1+num2\n",
    "print(\"Add=\",add)"
   ]
  },
  {
   "cell_type": "code",
   "execution_count": null,
   "id": "2cfede39-087e-4069-a962-fe04d7eea266",
   "metadata": {},
   "outputs": [],
   "source": [
    "#Qus-3 BMI Chart"
   ]
  },
  {
   "cell_type": "code",
   "execution_count": 14,
   "id": "2e3e21aa-ff6a-443c-a11c-6c3befbcf59e",
   "metadata": {},
   "outputs": [
    {
     "name": "stdin",
     "output_type": "stream",
     "text": [
      "Enter Your BMI Value: 34\n"
     ]
    },
    {
     "name": "stdout",
     "output_type": "stream",
     "text": [
      "Your BMI is : Obese\n"
     ]
    }
   ],
   "source": [
    "BMI=int(input(\"Enter Your BMI Value:\"))\n",
    "if(BMI<24.9):\n",
    "    print(\"Your BMI is : Normal\")\n",
    "elif(BMI<29.9):\n",
    "    print(\"Your BMI is : Over Weight\")\n",
    "elif(BMI<34.9):\n",
    "    print(\"Your BMI is : Obese\")\n",
    "elif(BMI<39.9):\n",
    "    print(\"Your BMI is : Severely Obese\")\n",
    "else:\n",
    "    print(\"Your BMI is : Morbidly Obese\")"
   ]
  },
  {
   "cell_type": "code",
   "execution_count": null,
   "id": "d23fba10-5589-46b4-98f0-59a48addc06f",
   "metadata": {},
   "outputs": [],
   "source": [
    "#but if we enter float value not recognized"
   ]
  },
  {
   "cell_type": "code",
   "execution_count": 6,
   "id": "02010579-8d87-49bb-a75a-e59b12c6dfdd",
   "metadata": {},
   "outputs": [
    {
     "name": "stdin",
     "output_type": "stream",
     "text": [
      "Enter Your BMI Value: 34.9\n"
     ]
    },
    {
     "ename": "ValueError",
     "evalue": "invalid literal for int() with base 10: '34.9'",
     "output_type": "error",
     "traceback": [
      "\u001b[1;31m---------------------------------------------------------------------------\u001b[0m",
      "\u001b[1;31mValueError\u001b[0m                                Traceback (most recent call last)",
      "Cell \u001b[1;32mIn[6], line 1\u001b[0m\n\u001b[1;32m----> 1\u001b[0m BMI\u001b[38;5;241m=\u001b[39m\u001b[38;5;28mint\u001b[39m(\u001b[38;5;28minput\u001b[39m(\u001b[38;5;124m\"\u001b[39m\u001b[38;5;124mEnter Your BMI Value:\u001b[39m\u001b[38;5;124m\"\u001b[39m))\n\u001b[0;32m      2\u001b[0m \u001b[38;5;28;01mif\u001b[39;00m(BMI\u001b[38;5;241m<\u001b[39m\u001b[38;5;241m24.9\u001b[39m):\n\u001b[0;32m      3\u001b[0m     \u001b[38;5;28mprint\u001b[39m(\u001b[38;5;124m\"\u001b[39m\u001b[38;5;124mYour BMI is : Normal\u001b[39m\u001b[38;5;124m\"\u001b[39m)\n",
      "\u001b[1;31mValueError\u001b[0m: invalid literal for int() with base 10: '34.9'"
     ]
    }
   ],
   "source": [
    "BMI=int(input(\"Enter Your BMI Value:\"))\n",
    "if(BMI<24.9):\n",
    "    print(\"Your BMI is : Normal\")\n",
    "elif(BMI<29.9):\n",
    "    print(\"Your BMI is : Over Weight\")\n",
    "elif(BMI<34.9):\n",
    "    print(\"Your BMI is : Obese\")\n",
    "elif(BMI<39.9):\n",
    "    print(\"Your BMI is : Severely Obese\")\n",
    "else:\n",
    "    print(\"Your BMI is : Morbidly Obese\")"
   ]
  },
  {
   "cell_type": "code",
   "execution_count": null,
   "id": "f5960da3-b52d-4e2d-aa21-ba60174a0c67",
   "metadata": {},
   "outputs": [],
   "source": [
    "#if you gave float value it will be error so i will write below code"
   ]
  },
  {
   "cell_type": "code",
   "execution_count": 10,
   "id": "d3888a7e-2818-4206-8dd8-4ac938cc0792",
   "metadata": {},
   "outputs": [
    {
     "name": "stdin",
     "output_type": "stream",
     "text": [
      "Enter Your BMI Value: 24.9\n"
     ]
    },
    {
     "name": "stdout",
     "output_type": "stream",
     "text": [
      "Your BMI is : Over Weight\n"
     ]
    }
   ],
   "source": [
    "BMI=float(input(\"Enter Your BMI Value:\"))\n",
    "if(BMI<24.9):\n",
    "    print(\"Your BMI is : Normal\")\n",
    "elif(BMI<29.9):\n",
    "    print(\"Your BMI is : Over Weight\")\n",
    "elif(BMI<34.9):\n",
    "    print(\"Your BMI is : Obese\")\n",
    "elif(BMI<39.9):\n",
    "    print(\"Your BMI is : Severely Obese\")\n",
    "else:\n",
    "    print(\"Your BMI is : Morbidly Obese\")"
   ]
  },
  {
   "cell_type": "code",
   "execution_count": 11,
   "id": "c63e0620-a19a-4ff3-990d-37836e190813",
   "metadata": {},
   "outputs": [],
   "source": [
    "#actually uoto 24.9 is normal, upto 29.9 is over weight as per chart but if you gave exact limit value it will error. so i will write below code."
   ]
  },
  {
   "cell_type": "code",
   "execution_count": 13,
   "id": "819278e6-9c02-4aa0-bc7f-aa129909f431",
   "metadata": {},
   "outputs": [
    {
     "name": "stdin",
     "output_type": "stream",
     "text": [
      "Enter Your BMI Value: 34.9\n"
     ]
    },
    {
     "name": "stdout",
     "output_type": "stream",
     "text": [
      "Your BMI is : Morbidly Obese\n"
     ]
    }
   ],
   "source": [
    "BMI=float(input(\"Enter Your BMI Value:\"))\n",
    "if(BMI>0 and BMI<24.9):\n",
    "    print(\"Your BMI is : Normal\")\n",
    "elif(BMI>24.9 and BMI<29.9):\n",
    "    print(\"Your BMI is : Over Weight\")\n",
    "elif(BMI>29.9 and BMI<34.9):\n",
    "    print(\"Your BMI is : Obese\")\n",
    "elif(BMI>34.9 and BMI<39.9):\n",
    "    print(\"Your BMI is : Severely Obese\")\n",
    "else:\n",
    "    print(\"Your BMI is : Morbidly Obese\")"
   ]
  },
  {
   "cell_type": "code",
   "execution_count": null,
   "id": "e9e39df3-7e99-4b08-9511-10df1ba34680",
   "metadata": {},
   "outputs": [],
   "source": []
  }
 ],
 "metadata": {
  "kernelspec": {
   "display_name": "Python 3 (ipykernel)",
   "language": "python",
   "name": "python3"
  },
  "language_info": {
   "codemirror_mode": {
    "name": "ipython",
    "version": 3
   },
   "file_extension": ".py",
   "mimetype": "text/x-python",
   "name": "python",
   "nbconvert_exporter": "python",
   "pygments_lexer": "ipython3",
   "version": "3.11.7"
  }
 },
 "nbformat": 4,
 "nbformat_minor": 5
}
